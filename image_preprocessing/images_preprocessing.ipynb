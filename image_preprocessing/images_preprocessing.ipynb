{
 "cells": [
  {
   "cell_type": "code",
   "execution_count": 79,
   "metadata": {},
   "outputs": [],
   "source": [
    "import cv2\n",
    "import pandas"
   ]
  },
  {
   "cell_type": "code",
   "execution_count": 80,
   "metadata": {},
   "outputs": [],
   "source": [
    "def load_image(image):\n",
    "    img = cv2.imread(image)\n",
    "    return img\n",
    "\n",
    "def resize_image(image, n):\n",
    "    '''Makes image n pixels wide, preserving the same ratio'''\n",
    "    r = n / image.shape[1]\n",
    "    dim = (n, int(image.shape[0] * r))\n",
    "    # perform the actual resizing of the image and show it\n",
    "    resized = cv2.resize(image, dim, interpolation = cv2.INTER_AREA)\n",
    "    return resized\n",
    "    \n",
    "def convert_to_grey(image):\n",
    "    grey = cv2.cvtColor(image, cv2.COLOR_BGR2GRAY)\n",
    "    return grey\n",
    "    \n",
    "def change_image_ratio(image, w, h):\n",
    "    image = cv2.resize(image, (w, h))\n",
    "    return image\n",
    "\n",
    "def process_file(file_name):\n",
    "    img = load_image(file_name)\n",
    "    \n",
    "    # to greyscale\n",
    "    grey = convert_to_grey(img)\n",
    "    shape =  grey.shape\n",
    "\n",
    "    # calculating ratio\n",
    "    height, width = shape[0], shape[1]\n",
    "    ratio = width/height\n",
    "\n",
    "    # compressing horizontally\n",
    "    img = change_image_ratio(grey, int(width/ratio), int(height))\n",
    "\n",
    "    # resizing\n",
    "    return resize_image(img, 384)"
   ]
  },
  {
   "cell_type": "code",
   "execution_count": 26,
   "metadata": {},
   "outputs": [],
   "source": [
    "image = load_image('whale_2.jpg')\n",
    "resize_image(image, 100)\n",
    "change_image_ratio(image, 2, 3)\n",
    "convert_to_grey(image)\n",
    "change_image_ratio(image, 640, 640);"
   ]
  },
  {
   "cell_type": "markdown",
   "metadata": {},
   "source": [
    "### Image preprocessing code\n",
    "Images are preprocessed by:\n",
    "\n",
    "1. Converting to black&white;\n",
    "2. Compressing horizontally by a factor of 2.15 (the mean aspect ratio);\n",
    "3. Apply a random image transformation (only for training)\n",
    "4. Resizing to 384x384;\n",
    "5. Normalizing to zero mean and unit variance.\n",
    "These operation are performed by the following code that is later invoked when preparing the corpus."
   ]
  },
  {
   "cell_type": "code",
   "execution_count": 32,
   "metadata": {},
   "outputs": [
    {
     "name": "stdout",
     "output_type": "stream",
     "text": [
      "whale_0.jpg\n",
      "height: 237\n",
      "width: 1050\n"
     ]
    }
   ],
   "source": [
    "# loading image\n",
    "img = load_image('whale_0.jpg')\n",
    "\n",
    "# changing color to grey\n",
    "grey = convert_to_grey(img)\n",
    "shape =  grey.shape\n",
    "\n",
    "# calculating ratio\n",
    "height, width = shape[0], shape[1]\n",
    "ratio = width/height\n",
    "print('height:', height)\n",
    "print('width:', width)\n",
    "\n",
    "# compressing horizontally\n",
    "w = int(width/ratio)\n",
    "h = int(height)\n",
    "img = change_image_ratio(image, w, h)\n",
    "\n",
    "# resizing\n",
    "resize_image(img, 384);"
   ]
  },
  {
   "cell_type": "code",
   "execution_count": 5,
   "metadata": {},
   "outputs": [
    {
     "name": "stdout",
     "output_type": "stream",
     "text": [
      "whale_0.jpg\n"
     ]
    }
   ],
   "source": [
    "# loading image\n",
    "img = load_image('whale_0.jpg')\n",
    "\n",
    "# changing color to grey\n",
    "grey = convert_to_grey(img)\n",
    "shape =  grey.shape\n",
    "\n",
    "# calculating ratio\n",
    "height, width = grey.shape[0], grey.shape[1]\n",
    "ratio = width/height\n",
    "\n",
    "# compressing horizontally\n",
    "new_width = int(width/ratio)\n",
    "img = change_image_ratio(image, new_width, height)\n",
    "\n",
    "# resizing\n",
    "resize_image(img, 384);"
   ]
  },
  {
   "cell_type": "code",
   "execution_count": 77,
   "metadata": {},
   "outputs": [
    {
     "name": "stdout",
     "output_type": "stream",
     "text": [
      "0    0000e88ab.jpg\n",
      "1    0001f9222.jpg\n",
      "2    00029d126.jpg\n",
      "3    00050a15a.jpg\n",
      "4    0005c1ef8.jpg\n",
      "Name: Image, dtype: object\n"
     ]
    }
   ],
   "source": [
    "import numpy as np\n",
    "\n",
    "df = pandas.read_csv('train.csv')\n",
    "data_frame = df.Image\n",
    "print(data_frame.head())\n",
    "np.random.shuffle(data_frame)"
   ]
  },
  {
   "cell_type": "code",
   "execution_count": 83,
   "metadata": {},
   "outputs": [
    {
     "data": {
      "text/plain": [
       "0    d6a2fcf67.jpg\n",
       "1    4158e6b4c.jpg\n",
       "2    a7071c91e.jpg\n",
       "3    c5a296f97.jpg\n",
       "4    8622a06dd.jpg\n",
       "Name: Image, dtype: object"
      ]
     },
     "execution_count": 83,
     "metadata": {},
     "output_type": "execute_result"
    }
   ],
   "source": [
    "data_frame.head()"
   ]
  },
  {
   "cell_type": "code",
   "execution_count": 86,
   "metadata": {},
   "outputs": [],
   "source": [
    "import random\n",
    "\n",
    "def generator(path, batch=1):\n",
    "    images = np.random.shuffle(os.listdir(path))\n",
    "#     for root, dirs, files in os.walk(path):\n",
    "    for root, dirs, files in images:\n",
    "        batch_counter = 0\n",
    "        batch_files = []\n",
    "        for name in files:\n",
    "            if name.split('.')[-1] in ['png', 'jpg', 'jpeg']:\n",
    "                if batch_counter == 0:\n",
    "                    batch_files = []\n",
    "                batch_counter += 1\n",
    "\n",
    "                filename = os.path.join(root, name)\n",
    "                batch_files.append(process_file(filename))\n",
    "\n",
    "                print('result:', batch_counter % batch)\n",
    "                if batch_counter % batch != 0:\n",
    "                    continue\n",
    "                batch_counter = 0\n",
    "                yield np.stack(batch_files, axis=0)\n",
    "\n",
    "            if batch_counter:\n",
    "                yield np.stack(batch_files, axis=0)\n"
   ]
  },
  {
   "cell_type": "code",
   "execution_count": 125,
   "metadata": {},
   "outputs": [],
   "source": [
    "import random\n",
    "\n",
    "def generator(path, batch=1):\n",
    "    images = os.listdir(path)\n",
    "    print('images',images)\n",
    "    random.shuffle(images)\n",
    "    print('images',images)    \n",
    "    batch_counter = 0\n",
    "    batch_files = []\n",
    "    for image in images:\n",
    "        if image.split('.')[-1] in ['png', 'jpg', 'jpeg']:\n",
    "            if batch_counter == 0:\n",
    "                batch_files = []\n",
    "            batch_counter += 1\n",
    "\n",
    "            filename = os.path.join(path, image)\n",
    "            batch_files.append(process_file(filename))\n",
    "            \n",
    "            if batch_counter % batch != 0:\n",
    "                continue\n",
    "            batch_counter = 0\n",
    "            yield np.stack(batch_files, axis=0)\n",
    "\n",
    "        if batch_counter:\n",
    "            yield np.stack(batch_files, axis=0)"
   ]
  },
  {
   "cell_type": "code",
   "execution_count": 126,
   "metadata": {},
   "outputs": [
    {
     "name": "stdout",
     "output_type": "stream",
     "text": [
      "images ['4b6605393.jpg', '4b66039fe.jpg', '4b945d454.jpg', '4b5384c9b.jpg', '4b1315993.jpg', '4b8212256.jpg', '4b8554d24.jpg', '4b77714e6.jpg', '4b3631d1e.jpg', '4b2678972.jpg', '4b542e259.jpg', '4b373390c.jpg', '4b771d44b.jpg', '4b6887756.jpg', '4b6831b73.jpg', '4b95024d2.jpg']\n",
      "images ['4b6605393.jpg', '4b771d44b.jpg', '4b6831b73.jpg', '4b945d454.jpg', '4b2678972.jpg', '4b95024d2.jpg', '4b8554d24.jpg', '4b3631d1e.jpg', '4b373390c.jpg', '4b542e259.jpg', '4b1315993.jpg', '4b6887756.jpg', '4b5384c9b.jpg', '4b8212256.jpg', '4b66039fe.jpg', '4b77714e6.jpg']\n",
      "image: 4b6605393.jpg batch_counter: 1\n",
      "image: 4b771d44b.jpg batch_counter: 2\n",
      "image: 4b6831b73.jpg batch_counter: 3\n",
      "[[[113 108 113 ... 111 112 115]\n",
      "  [111 110 116 ... 110 113 111]\n",
      "  [106 114 116 ... 114 115 112]\n",
      "  ...\n",
      "  [ 90  95  92 ...  90  88  91]\n",
      "  [ 91  95  95 ...  86  85  84]\n",
      "  [ 86  90  92 ...  86  86  82]]\n",
      "\n",
      " [[160 157 158 ... 229 229 230]\n",
      "  [174 173 172 ... 248 248 247]\n",
      "  [175 175 175 ... 251 251 251]\n",
      "  ...\n",
      "  [225 222 221 ... 151 128 114]\n",
      "  [224 221 217 ... 145 127 113]\n",
      "  [206 207 208 ... 129 122 110]]\n",
      "\n",
      " [[ 83  78  81 ... 111 123 121]\n",
      "  [ 88  84  84 ...  82  82  84]\n",
      "  [107 102  99 ...  80  77  79]\n",
      "  ...\n",
      "  [111 114 109 ...  94  93  93]\n",
      "  [ 97  95  97 ... 103  88  89]\n",
      "  [108  99 100 ... 104 103 101]]]\n",
      "image: 4b945d454.jpg batch_counter: 1\n",
      "image: 4b2678972.jpg batch_counter: 2\n",
      "image: 4b95024d2.jpg batch_counter: 3\n",
      "[[[177 184 184 ... 213 212 211]\n",
      "  [157 174 176 ... 212 213 213]\n",
      "  [154 164 175 ... 212 213 213]\n",
      "  ...\n",
      "  [176 174 166 ... 108 122 146]\n",
      "  [178 177 176 ... 114 129 149]\n",
      "  [185 179 177 ... 149 149 153]]\n",
      "\n",
      " [[189 191 185 ... 178 183 178]\n",
      "  [214 217 216 ... 187 174 159]\n",
      "  [217 222 221 ... 196 193 185]\n",
      "  ...\n",
      "  [188 186 184 ... 220 219 214]\n",
      "  [184 190 196 ... 218 217 213]\n",
      "  [179 188 191 ... 197 198 196]]\n",
      "\n",
      " [[137 130 114 ... 222 250 248]\n",
      "  [132 120 106 ... 206 215 202]\n",
      "  [117 128 129 ...  97 113 130]\n",
      "  ...\n",
      "  [122 122 122 ...  90  90  92]\n",
      "  [103  86  96 ...  89  92 103]\n",
      "  [123  89  89 ...  87  86  99]]]\n",
      "image: 4b8554d24.jpg batch_counter: 1\n",
      "image: 4b3631d1e.jpg batch_counter: 2\n",
      "image: 4b373390c.jpg batch_counter: 3\n",
      "[[[228 227 226 ... 227 224 223]\n",
      "  [227 225 222 ... 226 223 221]\n",
      "  [226 223 219 ... 226 222 219]\n",
      "  ...\n",
      "  [212 213 213 ... 213 210 210]\n",
      "  [214 215 214 ... 211 209 208]\n",
      "  [217 217 215 ... 209 207 206]]\n",
      "\n",
      " [[222 227 227 ... 226 225 221]\n",
      "  [228 234 233 ... 223 224 222]\n",
      "  [230 234 234 ... 223 221 218]\n",
      "  ...\n",
      "  [202 213 217 ... 237 240 237]\n",
      "  [195 205 215 ... 228 230 231]\n",
      "  [194 202 209 ... 228 227 226]]\n",
      "\n",
      " [[240 240 240 ... 241 241 241]\n",
      "  [239 239 239 ... 241 241 241]\n",
      "  [238 238 238 ... 241 241 241]\n",
      "  ...\n",
      "  [253 253 253 ... 253 253 253]\n",
      "  [253 253 253 ... 253 253 253]\n",
      "  [253 253 253 ... 253 253 253]]]\n",
      "image: 4b542e259.jpg batch_counter: 1\n",
      "image: 4b1315993.jpg batch_counter: 2\n",
      "image: 4b6887756.jpg batch_counter: 3\n",
      "[[[206 214 214 ... 216 216 208]\n",
      "  [212 221 219 ... 226 227 219]\n",
      "  [214 220 219 ... 225 226 221]\n",
      "  ...\n",
      "  [207 212 214 ... 214 213 206]\n",
      "  [208 212 213 ... 219 219 214]\n",
      "  [199 204 203 ... 213 212 204]]\n",
      "\n",
      " [[215 215 214 ... 214 214 215]\n",
      "  [215 216 215 ... 215 214 214]\n",
      "  [217 216 216 ... 214 215 215]\n",
      "  ...\n",
      "  [195 197 196 ... 200 199 198]\n",
      "  [196 196 196 ... 199 197 197]\n",
      "  [187 186 186 ... 199 197 196]]\n",
      "\n",
      " [[167 166 165 ... 209 207 207]\n",
      "  [163 164 165 ... 213 213 212]\n",
      "  [161 164 166 ... 212 209 207]\n",
      "  ...\n",
      "  [102 110 119 ...  51  48  46]\n",
      "  [ 98 114 124 ...  52  52  80]\n",
      "  [ 80 105 122 ...  64  52  82]]]\n",
      "image: 4b5384c9b.jpg batch_counter: 1\n",
      "image: 4b8212256.jpg batch_counter: 2\n",
      "image: 4b66039fe.jpg batch_counter: 3\n",
      "[[[179 185 169 ... 188 190 211]\n",
      "  [170 185 171 ... 235 238 239]\n",
      "  [183 222 227 ... 238 237 241]\n",
      "  ...\n",
      "  [176 173 180 ... 168 183 176]\n",
      "  [194 197 180 ... 175 188 195]\n",
      "  [203 223 214 ... 166 173 182]]\n",
      "\n",
      " [[191 200 200 ... 209 208 199]\n",
      "  [203 212 212 ... 221 221 212]\n",
      "  [203 212 212 ... 221 221 212]\n",
      "  ...\n",
      "  [162 171 171 ... 170 159 146]\n",
      "  [164 171 168 ... 180 174 163]\n",
      "  [149 153 143 ... 180 178 169]]\n",
      "\n",
      " [[255 255 255 ... 255 255 255]\n",
      "  [255 255 255 ... 255 255 255]\n",
      "  [255 255 255 ... 255 255 255]\n",
      "  ...\n",
      "  [254 254 254 ... 254 254 254]\n",
      "  [254 254 254 ... 254 254 254]\n",
      "  [254 254 254 ... 254 254 254]]]\n",
      "image: 4b77714e6.jpg batch_counter: 1\n"
     ]
    }
   ],
   "source": [
    "from PIL import Image\n",
    "\n",
    "for i in generator('test/', 3):\n",
    "    print(i)"
   ]
  }
 ],
 "metadata": {
  "kernelspec": {
   "display_name": "Python 3",
   "language": "python",
   "name": "python3"
  },
  "language_info": {
   "codemirror_mode": {
    "name": "ipython",
    "version": 3
   },
   "file_extension": ".py",
   "mimetype": "text/x-python",
   "name": "python",
   "nbconvert_exporter": "python",
   "pygments_lexer": "ipython3",
   "version": "3.6.5"
  }
 },
 "nbformat": 4,
 "nbformat_minor": 2
}
